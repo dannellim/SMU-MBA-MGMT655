{
  "nbformat": 4,
  "nbformat_minor": 0,
  "metadata": {
    "colab": {
      "provenance": [],
      "include_colab_link": true
    },
    "kernelspec": {
      "name": "python3",
      "display_name": "Python 3"
    },
    "language_info": {
      "name": "python"
    }
  },
  "cells": [
    {
      "cell_type": "markdown",
      "metadata": {
        "id": "view-in-github",
        "colab_type": "text"
      },
      "source": [
        "<a href=\"https://colab.research.google.com/github/dannellim/SMU-MBA-MGMT655/blob/main/Dannel_Exercise_Introduction_to_Python_for_Data_Science.ipynb\" target=\"_parent\"><img src=\"https://colab.research.google.com/assets/colab-badge.svg\" alt=\"Open In Colab\"/></a>"
      ]
    },
    {
      "cell_type": "markdown",
      "metadata": {
        "id": "cgspIptMvHgQ"
      },
      "source": [
        "**Instructions**\n",
        "\n",
        "**Make a copy of this notebook.**\n",
        "\n",
        "**Rename the notebook to *your_name - Python Exercises*.**\n",
        "\n",
        "There are 10 questions in this exercise.\n",
        "\n",
        "Please observe the following:\n",
        "1. Do not immediately dump the questions to Gemini/ChatGPT/Claude and ask it to solve for you.\n",
        "2. Start by thinking how you would solve it.\n",
        "3. Try writing a few pieces of code.\n",
        "4. If you encounter error, send the error into Gemini/ChatGPT/Claude and see what solution they recommend.\n",
        "\n",
        "Remember, 99% of your coding skills are developed through the mistakes that you make."
      ]
    },
    {
      "cell_type": "markdown",
      "metadata": {
        "id": "zdTVFVukwpiI"
      },
      "source": [
        "**Q1.** Given a dictionary:\n",
        "\n",
        "\n",
        "\n",
        "```\n",
        "d = {\n",
        "  'one':1,\n",
        "  'two':2,\n",
        "  'three':3,\n",
        "  'four':4\n",
        "  }\n",
        "```\n",
        "\n",
        "\n",
        "\n",
        "Indicate the statement that will return 4 as output\n"
      ]
    },
    {
      "cell_type": "code",
      "execution_count": null,
      "metadata": {
        "id": "WMpoMo2fvGr1"
      },
      "outputs": [],
      "source": [
        "d = {\n",
        "  'one':1,\n",
        "  'two':2,\n",
        "  'three':3,\n",
        "  'four':4\n",
        "  }\n",
        "\n",
        "# Assign your answer to the variable result\n",
        "result = d['four']\n",
        "\n",
        "# The following code checks your answer and will return an error if its wrong\n",
        "assert result == 4"
      ]
    },
    {
      "cell_type": "markdown",
      "metadata": {
        "id": "QR_3O6P5xgNh"
      },
      "source": [
        "**Q2.** What are the datatypes for the three variables below?\n",
        "\n",
        "(str, int, float, or bool?)\n",
        "\n",
        "W = 'haha'\n",
        "\n",
        "X = 98.56\n",
        "\n",
        "Y = “2”\n",
        "\n",
        "Z = 3\n",
        "\n",
        "A = False"
      ]
    },
    {
      "cell_type": "code",
      "execution_count": null,
      "metadata": {
        "id": "RZhC70kvx8SZ"
      },
      "outputs": [],
      "source": [
        "# Assign your answer to the variables below\n",
        "# ## use python datatypes for answers (i.e., str, int, bool, float)\n",
        "W = str\n",
        "X = float\n",
        "Y = str\n",
        "Z = int\n",
        "A = bool\n",
        "\n",
        "# The following code checks your answer and will return an error if its wrong\n",
        "assert W == type('haha')\n",
        "assert X == type(98.56)\n",
        "assert Y == type('2')\n",
        "assert Z == type(3)\n",
        "assert A == type(False)"
      ]
    },
    {
      "cell_type": "markdown",
      "metadata": {
        "id": "ca8aOYuKyEVL"
      },
      "source": [
        "**Q3.** Which of the following is (are) mutable (unlocked)?\n",
        "\n",
        "A = [1, 2, 3]\n",
        "\n",
        "B = (2, 3, 4)\n",
        "\n",
        "C = {3, 4, 5}\n",
        "\n",
        "D = ‘4, 5, 6’"
      ]
    },
    {
      "cell_type": "code",
      "execution_count": null,
      "metadata": {
        "id": "hO-6XajVyWDP"
      },
      "outputs": [],
      "source": [
        "A = [1, 2, 3]\n",
        "B = (2, 3, 4)\n",
        "C = {3, 4, 5}\n",
        "D = '4, 5, 6'\n",
        "E = {'one': 1, 'two': 2}\n",
        "\n",
        "# Assign the correct answer to the variable below\n",
        "answer = [A, C, E]\n",
        "\n",
        "# The following code checks your answer and will return an error if its wrong\n",
        "for a in answer:\n",
        "    assert type(a) in (list, set, dict)"
      ]
    },
    {
      "cell_type": "markdown",
      "metadata": {
        "id": "H6DcCXkXybFg"
      },
      "source": [
        "**Q4.** Write a function that computes X to the power of Y, given number X and Y, and call the function to check if it's correct."
      ]
    },
    {
      "cell_type": "code",
      "execution_count": null,
      "metadata": {
        "id": "n7qed0XBzNZ7"
      },
      "outputs": [],
      "source": [
        "def powerfunc(X, Y):\n",
        "  # Write your answer for Q4 here\n",
        "  return pow(X,Y)\n",
        "\n",
        "# The following code checks your answer and will return an error if its wrong\n",
        "assert powerfunc(2, 2) == 4\n"
      ]
    },
    {
      "cell_type": "markdown",
      "metadata": {
        "id": "uF_jw5li_dv4"
      },
      "source": [
        "**Qn 5.** Let x = 0. Write the code that gives the output below by only printing x.\n",
        "\n",
        "0\n",
        "\n",
        "2\n",
        "\n",
        "4\n",
        "\n",
        "6\n",
        "\n",
        "8\n"
      ]
    },
    {
      "cell_type": "code",
      "execution_count": null,
      "metadata": {
        "id": "L2mioQuV_8wu",
        "colab": {
          "base_uri": "https://localhost:8080/"
        },
        "outputId": "514fd418-e6fa-426f-e6bd-245e950187eb"
      },
      "outputs": [
        {
          "output_type": "stream",
          "name": "stdout",
          "text": [
            "0\n",
            "2\n",
            "4\n",
            "6\n",
            "8\n"
          ]
        }
      ],
      "source": [
        "x = 0\n",
        "\n",
        "# Write your answer for Q5 here\n",
        "# ## Hint: use for loop and range()\n",
        "for i in range(5):\n",
        "  print(x)\n",
        "  x += 2"
      ]
    },
    {
      "cell_type": "markdown",
      "metadata": {
        "id": "dBeuP43uCHJZ"
      },
      "source": [
        "**Qn 6.** Let s = “animal-horse”\n",
        "Write the code that outputs [‘animal’, ’horse’] using s as an input."
      ]
    },
    {
      "cell_type": "code",
      "execution_count": null,
      "metadata": {
        "id": "C-qWHm5fCPqY"
      },
      "outputs": [],
      "source": [
        "s = 'animal-horse'\n",
        "\n",
        "# Assign your answer to the variable s_token\n",
        "s_token = s.split('-')\n",
        "\n",
        "# The following code checks your answer and will return an error if its wrong\n",
        "assert s_token == ['animal', 'horse']"
      ]
    },
    {
      "cell_type": "markdown",
      "metadata": {
        "id": "W5pnCariCirf"
      },
      "source": [
        "**Qn 7.** Assuming today’s humidity is 0.8025. Write the expression that will show the information in the format:\n",
        "\n",
        "*Today’s humidity is\n",
        "<value of humidity in percentage with 2 decimal places> %*\n"
      ]
    },
    {
      "cell_type": "code",
      "execution_count": null,
      "metadata": {
        "id": "BbgoaNv3DCYj"
      },
      "outputs": [],
      "source": [
        "humidity = 0.8025\n",
        "\n",
        "# Assign your answer to the variable named statement\n",
        "# ## hint: use f-string and format specifier (can ask Gemini)\n",
        "statement = f'Today’s humidity is {humidity*100:.2f}%.'\n",
        "\n",
        "# The following code checks your answer and will return an error if its wrong\n",
        "assert statement == 'Today’s humidity is 80.25%.'"
      ]
    },
    {
      "cell_type": "markdown",
      "metadata": {
        "id": "z8NCHyYsDjMl"
      },
      "source": [
        "**Qn 8.** There are two strings:\n",
        "\n",
        "string1 = ‘dogs are extremely annoyed by cats”,\n",
        "\n",
        "string2: ‘cats are extremely crazy and are easily annoyed’\n",
        "\n",
        "Tokenize the strings and use the set() operation and evaluate the intersection of the 2 sets."
      ]
    },
    {
      "cell_type": "code",
      "execution_count": null,
      "metadata": {
        "id": "yes5Fv4GD20Q"
      },
      "outputs": [],
      "source": [
        "string1 = 'dogs are extremely annoyed by cats'\n",
        "string2 = 'cats are extremely crazy and are easily annoyed'\n",
        "\n",
        "# Tokenize string1\n",
        "string1_tokens = string1.split(' ')\n",
        "\n",
        "# Tokenize string2\n",
        "string2_tokens = string2.split(' ')\n",
        "\n",
        "# Assign your answer to the variable named intersection\n",
        "set_intersection = set(string1_tokens).intersection(string2_tokens)\n",
        "\n",
        "# The following code checks your answer and will return an error if its wrong\n",
        "if type(set_intersection) is not set:\n",
        "    set_intersection = set(set_intersection)\n",
        "assert set_intersection.difference({'are', 'extremely', 'annoyed', 'cats'}) == set()"
      ]
    },
    {
      "cell_type": "markdown",
      "metadata": {
        "id": "GNoQtCEsF6y8"
      },
      "source": [
        "**Qn 9.** Let s = 'we are in smu taking a python programming course in smu academy with smu adjunct faculty!'\n",
        "\n",
        "Write a pythonic list comprehension that gives a list of words within string s that are longer than word_length = 4\n"
      ]
    },
    {
      "cell_type": "code",
      "execution_count": null,
      "metadata": {
        "id": "zqVfOTqd94Xm"
      },
      "outputs": [],
      "source": [
        "s = 'we are in smu taking a python programming course in smu academy with smu adjunct faculty!'\n",
        "word_length = 4\n",
        "\n",
        "# Assign your answer to the variable named s_tokens\n",
        "# ## Use a for loop or list comprehension\n",
        "temp_token = s.split(' ')\n",
        "s_tokens = []\n",
        "for token in temp_token:\n",
        "  if len(token) > word_length:\n",
        "    s_tokens.append(token)\n",
        "\n",
        "# The following code checks your answer and will return an error if its wrong\n",
        "assert s_tokens == ['taking', 'python', 'programming', 'course', 'academy', 'adjunct', 'faculty!']"
      ]
    },
    {
      "cell_type": "markdown",
      "metadata": {
        "id": "LwZS0sVDGML1"
      },
      "source": [
        "**Qn. 10** Let SolarSystem = [('Saturn', 'large'), ('Mars', 'medium'),            ('Earth', 'medium'),              ('Mercury', 'small')]\n",
        "\n",
        "The above variable is considered a list. Write a piece of code that makes the variable into a dictionary and print the entire dictionary.\n"
      ]
    },
    {
      "cell_type": "code",
      "execution_count": null,
      "metadata": {
        "id": "eN92mnmv-d-t"
      },
      "outputs": [],
      "source": [
        "SolarSystem = [('Saturn', 'large'),\n",
        "               ('Mars', 'medium'),\n",
        "               ('Earth', 'medium'),\n",
        "               ('Mercury', 'small')]\n",
        "\n",
        "# Assign your answer to the variable named ss_dictionary\n",
        "ss_dictionary = {}\n",
        "for planet, size in SolarSystem:\n",
        "  ss_dictionary[planet] = size\n",
        "\n",
        "# The following code checks your answer and will return an error if its wrong\n",
        "assert ss_dictionary == {'Saturn': 'large', 'Mars': 'medium', 'Earth': 'medium', 'Mercury': 'small'}"
      ]
    },
    {
      "cell_type": "markdown",
      "metadata": {
        "id": "SECbhoOFmBlw"
      },
      "source": [
        "# **Challenge**"
      ]
    },
    {
      "cell_type": "markdown",
      "metadata": {
        "id": "fnAWNxwoJkGs"
      },
      "source": [
        "This challenge aims to build a basic sentiment scorer using python.\n",
        "The objective is to calculate the sentiment score for each of the 5 paragraphs below.\n",
        "\n",
        "Your task:\n",
        "\n",
        "1.   Create a reusable python function to clean the paragraphs into usable tokens.\n",
        "2.   Read in the **sentiments.p** file and use it as the base dictionary to decide if a word is positive, negative or neutral\n",
        "3.   Compute the sentiment score for each paragraph (no. of positive words / no. of positive + no. of negative words. Exclude neutral words in the calculation.)\n",
        "\n",
        "**Identify the paragraphs with the highest sentiment score, and the lowest sentiment score.**\n",
        "\n",
        "\\* **The sentiments.p file is available in the same folder.**\n",
        "\n"
      ]
    },
    {
      "cell_type": "code",
      "execution_count": null,
      "metadata": {
        "id": "BTAi5jpEozq6"
      },
      "outputs": [],
      "source": [
        "para1 = \"Despite the COVID-19 outbreak, the Economic Development Board (EDB) has in the first four months of this year secured about S$13 billion in investment commitments for the “next few years”, Trade and Industry Minister Chan Chun Sing said. This “very good performance” means Singapore has exceeded the S$8 billion to S$10 billion which had been projected for the whole of 2020. These investments, in sectors including electronics and infocomm, will generate “a few thousand jobs” for workers in Singapore in the coming years, Mr Chan told reporters during a media briefing on Saturday (May 30). Companies such as chipmaker Micron and life sciences firm Thermo Fisher Scientific are adding jobs, he said.\"\n",
        "para2 = \"The private consortium behind the Singapore Grand Prix is in discussions with the global franchise to assess whether it is still possible to hold the Singapore leg of the Formula One (F1) night race this year amid the Covid-19 pandemic, said Trade and Industry Minister Chan Chun Sing on Saturday (May 30). There are contractual issues that will have to be ironed out and studies to be done to help make the final assessment, he said. When asked by the media during an interview held via video-conferencing platform Zoom if he could confirm whether the annual F1 race would be held this year, Mr Chan said discussions are ongoing, and that an announcement will be made in the coming week.\"\n",
        "para3 = \"Talks are under way with South Korea and Australia to establish “green lanes” for travel in the Covid-19 environment, said Trade and Industry Minister Chan Chun Sing. Singapore is also having such discussions with New Zealand and Malaysia, while China on Friday became the first country to establish a green lane with the Republic. Mr Chan said Singapore is in simultaneous discussions with “as many countries as possible” on forming green lanes, and that such discussions are taking place on a bilateral level, not a multilateral one. “We are happy that we have been able to swiftly work on arrangements with China, and we hope to make progress with the rest of the countries,” he said. Such arrangements allow for the restoration of connectivity and facilitation of short-term essential business and official travel between countries, subject to safeguards against the coronavirus.\"\n",
        "para4 = \"The Elections Department (ELD) cannot “prematurely” announce the rules and regulations relating to the next General Election as these may be overtaken by “events”, Minister for Trade and Industry Chan Chun Sing said on Saturday (May 30). Speaking at a media briefing, he said: “ELD is fully aware of the competing needs. On one hand, ELD would like to make available the information to the parties and the candidates as early as possible for them to make the preparations. On the other hand, ELD has to work under the challenging constraint that there are many scenarios.” This comes after the Workers' Party had on Thursday called on the Government to “publish election campaign rules forthwith”, asking for more clarity on how campaigning might be affected by the COVID-19 pandemic. Singapore's next General Election must be held by Apr 14, 2021.\"\n",
        "para5 = \"Just six months ago, South Korean pop darling IU belted out her hits to a packed hall at The Star Theatre over two days. But with the coronavirus, such days of sell-out K-pop concerts are over, at least for a while, possibly rendering concert organisers dispensable. Live shows have been banned around the world to curb the Covid-19 outbreak, and many entertainers have moved to streaming their performances online. Recently, German football league Bundesliga returned to action with games played in empty stadiums and live streamed to fans. Citing these developments, Trade and Industry Minister Chan Chun Sing said the entertainment industry is among those that will require a new business model as the pandemic refashions the economy. “Fundamentally, the demand has changed, and perhaps people's way of life also is going to change,” said Mr Chan, as he outlined the sectors that Singapore should invest in and attract, as well as those that need to change.\"\n"
      ]
    },
    {
      "cell_type": "code",
      "execution_count": null,
      "metadata": {
        "id": "Al9XMdhFoh5M",
        "colab": {
          "base_uri": "https://localhost:8080/"
        },
        "outputId": "67589533-af73-494d-bee3-92648d88979f"
      },
      "outputs": [
        {
          "output_type": "stream",
          "name": "stderr",
          "text": [
            "[nltk_data] Downloading package stopwords to /root/nltk_data...\n",
            "[nltk_data]   Package stopwords is already up-to-date!\n"
          ]
        },
        {
          "output_type": "execute_result",
          "data": {
            "text/plain": [
              "True"
            ]
          },
          "metadata": {},
          "execution_count": 39
        }
      ],
      "source": [
        "# Import required modules\n",
        "import string\n",
        "import nltk\n",
        "from nltk.corpus import stopwords\n",
        "\n",
        "# Download stopwords data\n",
        "nltk.download('stopwords')"
      ]
    },
    {
      "cell_type": "markdown",
      "metadata": {
        "id": "3kz6S8rY0WYT"
      },
      "source": [
        "## Task 1\n",
        "\n",
        "We will be performing the following steps: data preprocessing, data cleaning, data munging, or data wrangling.\n",
        "\n",
        "**Your task (Part 1):**\n",
        "\n",
        "Create a function called `tokenise` that takes in a parameter called `text`. Your function would perform the following data manipulation with the input text:\n",
        "\n",
        "1. Remove all punctuations, empty tokens, and 1 character tokens\n",
        "2. Remove all stopwords as defined in nltk\n",
        "3. Lower case all tokens\n",
        "4. Return unique tokens\n",
        "\n",
        "**Your task (Part 2):**\n",
        "\n",
        "1. Pack all paragraphs into a tuple for easier processing\n",
        "2. Using the built-in `map` function, apply the `tokenise` function to all paragraphs and store it as a list of lists.\n",
        "3. Store the results in a variable labelled - `all_tokenised`\n"
      ]
    },
    {
      "cell_type": "code",
      "execution_count": null,
      "metadata": {
        "id": "yvyJvkEZJjMJ"
      },
      "outputs": [],
      "source": [
        "# Clean a paragraph into tokens\n",
        "def tokenise(text):\n",
        "    \"\"\" This function takes in a text string and\n",
        "        1. remove all punctuations, empty tokens, and 1 character tokens\n",
        "        2. remove all stopwords as defined in nltk\n",
        "        3. lower case all tokens\n",
        "        4. return unique tokens\n",
        "    \"\"\"\n",
        "    # print(text)\n",
        "    # print(string.punctuation)\n",
        "    # Add more characters to library\n",
        "    punctuation_lib = string.punctuation + '“' + '”'\n",
        "    # print(punctuation_lib)\n",
        "    # First, remove all punctuations\n",
        "    text = text.translate(str.maketrans('', '', punctuation_lib))\n",
        "    # print(text)\n",
        "    #split to list of str tokens\n",
        "    temp_text = text.split(' ')\n",
        "    # print(temp_text)\n",
        "    # remove empty tokens, tokens with 1 character, stopwords, then lower case them\n",
        "    # Remove empty tokens\n",
        "    temp_text = list(filter(None, temp_text))\n",
        "    # print(temp_text)\n",
        "    # remove tokens with 1 character\n",
        "    temp_text = [token for token in temp_text if len(token) > 1]\n",
        "    # print(temp_text)\n",
        "    # lower case the items in the list\n",
        "    temp_text = [token.lower() for token in temp_text]\n",
        "    # print(temp_text)\n",
        "    # remove stopwords\n",
        "    # stopwords is retrieved via a method called words in stopwords, and it takes\n",
        "    # in an argument called english\n",
        "    stopwords_lib = stopwords.words('english')\n",
        "    # print(stopwords_lib)\n",
        "    temp_text = [token for token in temp_text if token not in stopwords_lib]\n",
        "    # print(temp_text)\n",
        "\n",
        "    # Convert to long method\n",
        "\n",
        "    # return only unique tokens\n",
        "    return list(set(temp_text))\n",
        "\n",
        "# tokenise(para1) # test case 1\n",
        "# tokenise(para2) # test case 2\n",
        "# tokenise(para3) # test case 3\n",
        "# tokenise(para4) # test case 4\n",
        "# tokenise(para5) # test case 5"
      ]
    },
    {
      "cell_type": "code",
      "execution_count": null,
      "metadata": {
        "id": "dZQANeZx-D4P"
      },
      "outputs": [],
      "source": [
        "# Pack all paragraphs into a tuple for easier processing\n",
        "all_paragraphs = (para1, para2, para3, para4, para5)"
      ]
    },
    {
      "cell_type": "code",
      "execution_count": null,
      "metadata": {
        "id": "8myW0NjD-Z3i",
        "colab": {
          "base_uri": "https://localhost:8080/"
        },
        "outputId": "b66ef087-7cb0-4d94-994c-5767c752b783"
      },
      "outputs": [
        {
          "output_type": "stream",
          "name": "stdout",
          "text": [
            "Tokens for first paragraph: ['s13', 'sectors', 'billion', 'told', 'companies', 'economic', 'covid19', 'chun', 'outbreak', 'singapore', 'generate', 'industry', 'means', 'good', 'four', 'months', 'chipmaker', 'thermo', 'sing', 'electronics', '30', 'sciences', 'firm', 'micron', 'jobs', 'reporters', 's10', 'thousand', '2020', 'exceeded', 'fisher', 'board', 's8', 'scientific', 'first', 'media', 'minister', 'saturday', 'despite', 'development', 'edb', 'investment', 'next', 'including', 'infocomm', 'trade', 'years', 'life', 'year', 'chan', 'coming', 'projected', 'whole', 'briefing', 'may', 'investments', 'mr', 'adding', 'commitments', 'workers', 'secured', 'said', 'performance']\n"
          ]
        }
      ],
      "source": [
        "# use map to convert all paras into tokens within the all_paragraphs collection\n",
        "all_tokenised = list(map(tokenise, all_paragraphs))\n",
        "\n",
        "# check 1 sample\n",
        "print(f'Tokens for first paragraph: {all_tokenised[0]}')"
      ]
    },
    {
      "cell_type": "markdown",
      "metadata": {
        "id": "Vf0ngRQbnbgZ"
      },
      "source": [
        "## Task 2\n",
        "\n",
        "1. Read the `sentiments.p` file to extract all the words associated with positive and negative sentiments."
      ]
    },
    {
      "cell_type": "code",
      "source": [
        "from google.colab import drive\n",
        "drive.mount('/content/drive')"
      ],
      "metadata": {
        "colab": {
          "base_uri": "https://localhost:8080/"
        },
        "id": "ZjRZQvNEhHr6",
        "outputId": "9b4ba1eb-6942-4d22-886f-36dec5dd6948"
      },
      "execution_count": null,
      "outputs": [
        {
          "output_type": "stream",
          "name": "stdout",
          "text": [
            "Mounted at /content/drive\n"
          ]
        }
      ]
    },
    {
      "cell_type": "code",
      "execution_count": null,
      "metadata": {
        "id": "GJCnoXRknkJC",
        "colab": {
          "base_uri": "https://localhost:8080/"
        },
        "outputId": "28fa0020-d8c6-49b2-9f72-5525747e1621"
      },
      "outputs": [
        {
          "output_type": "stream",
          "name": "stdout",
          "text": [
            "These are the keys in the sentiments dictionary: dict_keys(['negative', 'positive'])\n",
            "There are the words associated with positivity: ['contribute', 'shiny', 'aristocrat', 'dote', 'scamper', 'essential', 'glorious', 'stable', 'open', 'oblige', 'recline', 'provide', 'unlimited', 'benefit', 'accomplish', 'sumptuous', 'non-violence', 'remodel', 'straight', 'highlight', 'profitable', 'propitious', 'backing', 'valiant', 'commonsense', 'accomplishment', 'agile', 'fiery', 'sincere', 'assertion', 'thrift', 'applaud', 'enchant', 'faithful', 'bonus', 'kindness', 'renaissance', 'caress', 'ball', 'quench', 'redeem', 'confidence', 'prolific', 'company', 'talent', 'goodbye', 'apprehend', 'familiar', 'colleague', 'effective', 'joyful', 'unforgettable', 'greet', 'support', 'indispensability', 'congratulate', 'cherish', 'studious', 'pro', 'casual', 'please', 'intercourse', 'tradition', 'mutual', 'thankful', 'passionate', 'sprightly', 'adorn', 'conqueror', 'bountiful', 'surpass', 'conquer', 'brainy', 'monumental', 'eye', 'donation', 'resourcefulness', 'admirer', 'precious', 'familiarity', 'adaptable', 'cooperate', 'fluent', 'conjunction', 'originality', 'genius', 'plausibility', 'selective', 'relevance', 'defender', 'arbitration', 'mentor', 'honor', 'uplift', 'sane', 'adorable', 'tranquil', 'graduation', 'invitation', 'communal', 'pamper', 'resourceful', 'adherence', 'divinity', 'fortunate', 'portable', 'subsist', 'salute', 'brilliance', 'liberty', 'give', 'remedy', 'attainment', 'admittance', 'generous', 'train', 'sanctify', 'skill', 'revive', 'companionship', 'privacy', 'rave', 'appropriate', 'vivacious', 'lustrous', 'notable', 'squarely', 'agreement', 'cognizant', 'allow', 'prompt', 'proud', 'pass', 'brightness', 'free', 'subscribe', 'undoubted', 'consensus', 'synthesis', 'ascribe', 'expert', 'empathy', 'cultivation', 'gleam', 'momentous', 'resolved', 'sublime', 'everlasting', 'inseparable', 'ripe', 'courtesy', 'understandable', 'join', 'salutary', 'elaboration', 'invincible', 'exuberant', 'staunchness', 'refuge', 'eagerness', 'enjoy', 'cordial', 'godliness', 'adroitly', 'respectful', 'skillful', 'accompaniment', 'aspire', 'merriment', 'minister', 'know', 'populous', 'credibility', 'ensemble', 'forgive', 'kid', 'subscription', 'profit', 'community', 'sweetness', 'communicative', 'advocacy', 'patron', 'modesty', 'moralistic', 'deal', 'arrest', 'rejoice', 'vivid', 'fashionable', 'art', 'talented', 'precedent', 'accordance', 'affinity', 'glisten', 'insistent', 'advantage', 'lucrative', 'befriend', 'coherent', 'purification', 'sympathetic', 'overcome', 'ingenuity', 'foster', 'consistency', 'courtly', 'affability', 'reestablish', 'precision', 'virtuous', 'loveliness', 'adherent', 'compliment', 'quality', 'reassure', 'enhancement', 'purr', 'consultation', 'chosen', 'accuracy', 'ease', 'blithe', 'aggregate', 'faithfulness', 'veritable', 'authenticity', 'reinstate', 'piety', 'heroism', 'suffice', 'lucid', 'appreciative', 'tranquility', 'appreciation', 'salvation', 'scrupulous', 'abound', 'stylish', 'reliability', 'flashy', 'sensitivity', 'adulation', 'discretion', 'flair', 'distinguish', 'adornment', 'funny', 'closeness', 'conjure', 'praise', 'amuse', 'uppermost', 'receptive', 'bloom', 'charity', 'glad', 'patriotic', 'like', 'constancy', 'popular', 'shrewdness', 'extraordinary', 'contributor', 'resolve', 'intercede', 'fair', 'lyric', 'security', 'happiness', 'energetic', 'easy', 'golden', 'nominate', 'main', 'filial', 'priceless', 'adore', 'congratulation', 'excel', 'facilitate', 'firmness', 'plenty', 'bolster', 'tribute', 'clean', 'advantageous', 'confidant', 'matter', 'fearless', 'extravagance', 'proprietary', 'embrace', 'sophisticated', 'coddle', 'eminence', 'acclaim', 'rightful', 'reasonable', 'enjoyment', 'peaceful', 'companion', 'confer', 'appoint', 'compassionate', 'culture', 'richness', 'hit', 'meritorious', 'romantic', 'calmness', 'comestible', 'utilize', 'amazing', 'equality', 'flexible', 'perfection', 'clear', 'triumphal', 'verify', 'intellectual', 'intrigue', 'associate', 'adjustable', 'energize', 'authentic', 'tactics', 'breadwinner', 'valor', 'assure', 'liberal', 'pleasurable', 'anoint', 'advancement', 'attachment', 'reap', 'deserve', 'cheery', 'harmonious', 'positiveness', 'assuredly', 'inherit', 'aristocracy', 'maturity', 'entertainment', 'chum', 'poise', 'acquit', 'justice', 'ameliorate', 'resurrect', 'majestic', 'optimistic', 'ripen', 'connect', 'trust', 'adhesion', 'surmise', 'permission', 'obey', 'preference', 'complement', 'groom', 'lust', 'decorative', 'benign', 'laugh', 'gorgeous', 'glossy', 'precaution', 'smile', 'whimsical', 'self-respect', 'myriad', 'civilize', 'religious', 'stabilize', 'stability', 'factual', 'adaptive', 'love', 'prosecute', 'consent', 'assent', 'marvelous', 'commemoration', 'happy', 'convene', 'plaything', 'fertile', 'keen', 'major', 'festivity', 'prance', 'hopeful', 'oasis', 'wise', 'unbroken', 'sober', 'spotless', 'mediate', 'aptitude', 'optimism', 'equity', 'prosperity', 'affirmative', 'outright', 'luster', 'befitting', 'unity', 'impartiality', 'proper', 'benevolent', 'entrust', 'complete', 'consign', 'popularity', 'discreet', 'stimulate', 'appreciate', 'return', 'distinct', 'renovate', 'amenable', 'playful', 'encourage', 'progress', 'famous', 'modest', 'correction', 'reverent', 'alleviate', 'enchantment', 'gain', 'suit', 'captivation', 'vigilant', 'law', 'inference', 'inform', 'upgrade', 'worthy', 'bonny', 'augment', 'composure', 'fill', 'flattery', 'perfectionist', 'hardy', 'amplify', 'right', 'improve', 'dare', 'entrepreneurial', 'usefulness', 'concur', 'beneficial', 'celebrity', 'amply', 'noble', 'secure', 'gold', 'astute', 'morale', 'satisfactorily', 'industrious', 'revival', 'guardian', 'picturesque', 'perfect', 'recompense', 'adequate', 'trustworthy', 'exult', 'intelligible', 'thrive', 'gifted', 'donate', 'poetic', 'colossal', 'wonder', 'smart', 'impartial', 'creative', 'learner', 'comedy', 'formality', 'compatible', 'peerless', 'promptly', 'harmony', 'refinement', 'indicative', 'swiftness', 'marital', 'courageous', 'celebration', 'devout', 'resolute', 'viability', 'cooperative', 'decorate', 'blossom', 'immaculate', 'rapport', 'woo', 'zenith', 'enlighten', 'succeed', 'infallible', 'suave', 'acceptable', 'safe', 'diligent', 'intricate', 'elate', 'exotic', 'prominent', 'alertness', 'tolerant', 'dignified', 'health', 'trustworthiness', 'accession', 'welfare', 'share', 'reinforcement', 'steadiness', 'hallowed', 'assurance', 'organize', 'motivated', 'great', 'heartily', 'therapeutic', 'imagination', 'gladden', 'sympathy', 'amusement', 'credit', 'steady', 'competency', 'reputable', 'rosy', 'distinctive', 'gladness', 'prosperous', 'elaborate', 'efficient', 'knowledge', 'contentment', 'uncommon', 'inquisitive', 'civilization', 'joy', 'glorify', 'aware', 'admire', 'absorption', 'awareness', 'subsidize', 'satisfactory', 'cupid', 'boom', 'desirous', 'heroic', 'virtue', 'pay', 'nourishment', 'quaint', 'nimble', 'amicable', 'fulfillment', 'outgoing', 'repentance', 'uphold', 'harmless', 'significant', 'onward', 'thoughtful', 'guarantee', 'ally', 'compensate', 'bright', 'integrity', 'civility', 'inspirational', 'independent', 'logic', 'novelty', 'vitality', 'symmetry', 'merry', 'proffer', 'confide', 'principle', 'lifelong', 'straightforward', 'guide', 'enrichment', 'mild', 'vouchsafe', 'liberalism', 'shelter', 'tempt', 'fun', 'chic', 'festive', 'smitten', 'commission', 'homage', 'nice', 'revitalize', 'positivity', 'adaptation', 'acclamation', 'ample', 'partnership', 'potency', 'hero', 'baptize', 'positive', 'comical', 'vigilance', 'willingness', 'feasible', 'behalf', 'commendation', 'statuesque', 'fulfill', 'humanitarian', 'loyal', 'clearness', 'completion', 'collaborate', 'benevolence', 'goodness', 'dig', 'justification', 'comprehend', 'attend', 'boldness', 'care', 'comprehension', 'relevant', 'cohort', 'excellent', 'upright', 'conquest', 'masterful', 'championship', 'readily', 'innocent', 'auspicious', 'cheerful', 'fondness', 'softness', 'healthful', 'tenacious', 'imaginative', 'polish', 'prudent', 'bliss', 'flirt', 'relish', 'basic', 'classic', 'comprehensive', 'wholesome', 'excite', 'superlative', 'responsive', 'commend', 'cherub', 'enrich', 'impervious', 'confederation', 'luckily', 'allowable', 'warm', 'lovely', 'fortitude', 'precise', 'fancy', 'unimpeachable', 'respite', 'inexpensive', 'sweet', 'candid', 'stimulation', 'arbiter', 'athletic', 'visionary', 'actuality', 'jubilee', 'lawful', 'constructive', 'crusader', 'polite', 'victorious', 'respect', 'human', 'jest', 'allies', 'even', 'coax', 'dexterity', 'lucky', 'steadfast', 'beautify', 'abide', 'handsome', 'spectacular', 'game', 'cute', 'bravery', 'commune', 'jubilant', 'progressive', 'navigable', 'consolidate', 'worthiness', 'immortal', 'thorough', 'meticulous', 'order', 'sympathize', 'sleek', 'commensurate', 'condone', 'exultation', 'glimmer', 'brotherhood', 'savings', 'sociable', 'completeness', 'congregate', 'grandeur', 'nobility', 'ceremonial', 'stand', 'quicken', 'arbitrate', 'fellowship', 'attractive', 'correct', 'paradise', 'credible', 'precept', 'pardon', 'inaugurate', 'champion', 'affirmation', 'shrewd', 'acquaintance', 'etiquette', 'persuasive', 'luminous', 'pertinent', 'heroine', 'regard', 'undoubtedly', 'accept', 'discern', 'sagacity', 'joke', 'eloquent', 'grand', 'grateful', 'posterity', 'sensitive', 'handy', 'charisma', 'pinnacle', 'reclaim', 'council', 'idol', 'reconciliation', 'attune', 'intellect', 'well', 'thrifty', 'seriousness', 'triumph', 'inspire', 'defense', 'notoriety', 'dominance', 'fidelity', 'shield', 'wonderful', 'garnish', 'primarily', 'sensible', 'attentive', 'upside', 'glitter', 'loyalty', 'leisure', 'backbone', 'measurable', 'append', 'venerate', 'premium', 'infallibility', 'special', 'luck', 'significance', 'truthful', 'coordination', 'reunion', 'consider', 'angel', 'enthusiastic', 'humble', 'heal', 'safety', 'sufficient', 'chivalrous', 'flatter', 'gentle', 'lead', 'witty', 'plain', 'assistance', 'mastery', 'purposeful', 'fragrant', 'worth', 'merit', 'semblance', 'nutrient', 'real', 'punctual', 'sturdy', 'farsighted', 'versatility', 'intimate', 'upward', 'haven', 'manly', 'survivor', 'compliance', 'decency', 'relaxation', 'affirm', 'economize', 'reward', 'valuable', 'hand', 'befit', 'satisfy', 'graceful', 'calm', 'forgiveness', 'supreme', 'admiration', 'instinctive', 'actual', 'qualify', 'best', 'redemption', 'commemorate', 'sanguine', 'suitable', 'festival', 'approval', 'relevancy', 'champ', 'soothe', 'relieve', 'assistant', 'offset', 'almighty', 'reliable', 'advent', 'consideration', 'accord', 'laughter', 'mend', 'congratulatory', 'honorable', 'humility', 'exhilaration', 'friendship', 'poignant', 'rouse', 'compassion', 'interested', 'enjoyable', 'home', 'glow', 'motivation', 'radiate', 'hope', 'beneficent', 'alight', 'true', 'stood', 'dynamic', 'clever', 'fortify', 'fervent', 'helpful', 'impressive', 'responsibility', 'workable', 'prominence', 'gratification', 'optional', 'invulnerable', 'brilliant', 'thoughtfulness', 'principal', 'privileged', 'enable', 'fascination', 'counsel', 'subsidy', 'mind', 'soundness', 'foresight', 'adjunct', 'gay', 'relief', 'curtsey', 'unbound', 'standardize', 'accurate', 'envision', 'playmate', 'commitment', 'staple', 'freedom', 'educational', 'elegant', 'niche', 'scruples', 'exquisite', 'surge', 'association', 'idolize', 'backer', 'independence', 'rapt', 'hygiene', 'truth', 'accede', 'lively', 'reconcile', 'comfortable', 'ardent', 'kind', 'majesty', 'exertion', 'conserve', 'savvy', 'angelic', 'negotiate', 'favorite', 'allegiance', 'dependable', 'meditation', 'upheld', 'inspiration', 'melody', 'harness', 'continuity', 'common', 'necessarily', 'topmost', 'definitive', 'comfort', 'embellish', 'blissful', 'sensational', 'purify', 'wisdom', 'permit', 'complementary', 'chivalry', 'palatable', 'important', 'create', 'utilitarian', 'bless', 'communicate', 'light', 'self-contained', 'mobility', 'liberate', 'fellow', 'fame', 'generate', 'restoration', 'able', 'empower', 'prudence', 'approach', 'pleasure', 'communion', 'tingle', 'upfront', 'preparatory', 'patience', 'familiarize', 'understood', 'affable', 'proficient', 'civil', 'plentiful', 'accentuate', 'culmination', 'darling', 'imperative', 'steadfastness', 'productivity', 'sought', 'console', 'co-operation', 'feast', 'heaven', 'warmhearted', 'splendor', 'alliance', 'luxurious', 'gratify', 'neat', 'success', 'ecstasy', 'education', 'restful', 'approve', 'venerable', 'tolerate', 'useful', 'revere', 'elegance', 'practical', 'considerate', 'obedient', 'cheer', 'moderation', 'noiseless', 'cultivate', 'summit', 'cleanliness', 'dazzle', 'excellence', 'romance', 'attractiveness', 'dedicate', 'mobilize', 'beneficiary', 'endurance', 'solace', 'boundless', 'heart', 'adventurous', 'indescribable', 'betroth', 'affluence', 'distinction', 'unhurried', 'survival', 'ability', 'authority', 'innovate', 'trophy', 'solution', 'satisfaction', 'appreciable', 'objective', 'commencement', 'sanitary', 'gaiety', 'vanquish', 'round', 'insight', 'indispensable', 'magnificence', 'maximize', 'regal', 'treatise', 'godlike', 'cogent', 'taste', 'reunite', 'reverently', 'radiance', 'aggregation', 'cooperation', 'successful', 'efficacy', 'make', 'divine', 'allure', 'surmount', 'esteem', 'accolade', 'distinguished', 'inauguration', 'harmonize', 'idealism', 'realistic', 'balmy', 'doubtless', 'marriage', 'admit', 'tolerance', 'acquittal', 'adjust', 'accrue', 'glory', 'aristocratic', 'swoon', 'betrothal', 'untouched', 'forward', 'capable', 'welcome', 'refine', 'fit', 'affix', 'treaty', 'competent', 'unique', 'amnesty', 'temperance', 'miraculous', 'admirable', 'manageable', 'travel', 'pride', 'favorable', 'providence', 'defend', 'temperate', 'lover', 'individuality', 'compromise', 'staunch', 'brave', 'worth-while', 'endear', 'hilarious', 'uttermost', 'modernity', 'delicate', 'offer', 'gallantry', 'dependability', 'obtainable', 'excitedness', 'radiant', 'meet', 'delicacy', 'renovation', 'prettily', 'amenity', 'moderate', 'intelligence', 'educated', 'ceaseless', 'endow', 'ethics', 'forgiven', 'attendance', 'workmanship', 'glee', 'rally', 'assist', 'adventuresome', 'aspiration', 'mighty', 'rehabilitation', 'kiss', 'understand', 'durability', 'compensation', 'superiority', 'confident', 'genuine', 'gift', 'willful', 'fullness', 'mirth', 'propriety', 'empowerment', 'careful', 'luxury', 'nourish', 'humor', 'painstaking', 'pleased', 'just', 'responsible', 'protector', 'clarify', 'friend', 'absorbent', 'augmentation', 'partner', 'paramount', 'patient', 'benefactor', 'longevity', 'respectable', 'foremost', 'safeguard', 'wondrous', 'validity', 'inventor', 'sworn', 'sweetheart', 'togetherness', 'rescue', 'substantiate', 'engage', 'arisen', 'perfume', 'serene', 'rapture', 'stately', 'verification', 'lavish', 'edible', 'dance', 'devote', 'excitement', 'frolic', 'convince', 'daring', 'forgave', 'premise', 'entertain', 'conducive', 'mercy', 'accurateness', 'collaboration', 'audible', 'ingenious', 'faith', 'intimacy', 'achieve', 'aid', 'mate', 'attract', 'romanticize', 'delightful', 'memorable', 'realistically', 'buoyant', 'mellow', 'palatial', 'merciful', 'adult', 'altruistic', 'glamorous', 'adaptability', 'impunity', 'pretty', 'accountable', 'conscientious', 'thrill', 'efficiency', 'preeminent', 'authoritative', 'impetus', 'premier', 'fresh', 'conscience', 'sparkle', 'allied', 'magnetic', 'value', 'buy', 'interpose', 'absolve', 'congenial', 'courteous', 'accommodation', 'repair', 'candor', 'affection', 'treat', 'promise', 'dawn', 'cure', 'stupendous', 'fairness', 'viable', 'beauteous', 'improvement', 'creativity', 'likable', 'asset', 'bargain', 'prosper', 'courage', 'repent', 'afloat', 'revel', 'deduce', 'speedily', 'board', 'excited', 'infer', 'amiability', 'exalt', 'fantasy', 'pomp', 'prize', 'chaste', 'conviction', 'fabulous', 'frank', 'versatile', 'sense', 'unselfish', 'capitalize', 'sanctuary', 'natural', 'affectionate', 'simplicity', 'meaningful', 'usable', 'cuddle', 'abundance', 'rich', 'outset', 'multitude', 'warmth', 'sincerity', 'spare', 'luxuriant', 'cozy', 'concession', 'beacon', 'consistent', 'charm', 'deference', 'gusto', 'fervor', 'consummate', 'willing', 'flawless', 'triumphant', 'contribution', 'protective', 'acquaint', 'outstanding', 'coincident', 'earnest', 'simplify', 'world-famous', 'pleasant', 'privy', 'fruition', 'serious', 'perseverance', 'fond', 'intelligent', 'pure', 'live', 'non-violent', 'robust', 'jolly', 'affluent', 'coexistence', 'clout', 'adeptness', 'exuberance', 'consult', 'content', 'vastness', 'resound', 'stud', 'bestow', 'deservedly', 'treasure', 'save', 'protection', 'allowance', 'attraction', 'zest', 'friendly', 'matchless', 'profess', 'nurture', 'agreeable', 'earnestness', 'commodious', 'effectiveness', 'tact', 'utilization', 'comeback', 'pious', 'descry', 'tenacity', 'boost', 'legitimacy', 'ethical', 'prestige', 'peace', 'holy', 'opportunity', 'back', 'cleanse', 'reparation', 'honest', 'potent', 'affiliate', 'peaceable', 'traditional', 'jointly', 'magnificent', 'honeymoon', 'greatness', 'decoration', 'apocalypse', 'call', 'gallant', 'baptism', 'subsistence', 'sanity', 'saint', 'adept', 'prodigy', 'gaily', 'applause', 'equitable', 'acceptance', 'achievement', 'credentials', 'indomitable', 'invaluable', 'reassurance', 'patronage', 'fantastic', 'capability', 'help', 'overjoyed', 'symbolize', 'fitness', 'crusade', 'renown', 'decent', 'flourish', 'obtain', 'optimal', 'availability', 'tenderness', 'obedience', 'heavenly', 'toleration', 'thank', 'abundant', 'laudable', 'extol', 'adjustment', 'particular', 'gracious', 'appeal', 'delight', 'eminent', 'sound', 'fruitful', 'remarkably', 'grace', 'resplendent', 'favor', 'dedication', 'productive', 'persevere', 'invite', 'appease', 'fine', 'blameless', 'sacred', 'irresistible', 'contact', 'affiliation', 'outwit', 'celebrate', 'glamour', 'beloved', 'settle', 'ensure', 'ideal', 'better', 'justifiably', 'profound', 'astound', 'strut', 'morality', 'conclusive', 'decipher', 'moral', 'prowess', 'dauntless', 'miracle', 'hospitable', 'revelation', 'pledge', 'practicable', 'marvel', 'autonomous', 'perfectionism', 'nobleman', 'clarity', 'agility', 'experience', 'prodigious', 'devotion', 'dreamland', 'motivate', 'legal', 'enhance', 'award', 'gratitude', 'generosity', 'dignify', 'voluntary', 'sweeten', 'righteousness', 'adamant', 'giddy', 'alive', 'prime', 'charitable', 'reverence', 'good', 'marry', 'impress', 'purity', 'patriot', 'righteous', 'remarkable', 'innocence', 'encouragement', 'politeness', 'acknowledgement', 'repose', 'genial', 'illustrious', 'savor', 'durable', 'opportune', 'flaunt', 'amazement', 'enthusiasm', 'nurse', 'justify', 'super', 'sage', 'comic', 'commendable', 'importance', 'amour', 'valid', 'logical', 'illuminate', 'cognizance', 'merrily', 'endorse', 'mature', 'lyrical', 'signify', 'avid', 'brotherly', 'coordinate', 'mint', 'rational', 'upbeat', 'renewal', 'onset', 'apt', 'adhesive', 'splendid', 'terrific', 'outlive', 'enlightenment', 'eager', 'survive', 'cohesion', 'accessible', 'salutation', 'attain', 'ecstatic', 'restore', 'innovative', 'proactive', 'amiable', 'subtle', 'humanity', 'pleasantry', 'riches', 'mesh', 'bequeath', 'carefree', 'motive', 'accommodate', 'beauty', 'advisable', 'exact', 'discuss', 'adroit', 'interest', 'establish', 'dear', 'outrun', 'dignity', 'humorous', 'covenant', 'learn', 'comely', 'healthy', 'hug', 'glean', 'protect', 'indulgence', 'desirable', 'superior', 'visualization', 'competence', 'magical', 'frugal', 'advance', 'normal', 'mindful', 'legitimate', 'supportive', 'culminate', 'tremendous', 'recreation']\n"
          ]
        }
      ],
      "source": [
        "import pickle\n",
        "from pathlib import Path\n",
        "\n",
        "data_folder = Path('/content/drive/MyDrive/pcml_data/1IPP')\n",
        "sentiments_filepath = data_folder / 'sentiments.p'\n",
        "\n",
        "# To open or save to a file via Pickle, we need to explicitly name\n",
        "# a filepath, and add a 2nd argument ('wb', 'rb'). 'wb' is write access,\n",
        "# 'rb' is read access.\n",
        "with open(sentiments_filepath, 'rb') as output_file:\n",
        "    sentiment_dictionary = pickle.load(output_file)\n",
        "\n",
        "print(f'These are the keys in the sentiments dictionary: {sentiment_dictionary.keys()}')\n",
        "print(f\"There are the words associated with positivity: {sentiment_dictionary['positive']}\")"
      ]
    },
    {
      "cell_type": "markdown",
      "metadata": {
        "id": "qKO1_rXC7X2i"
      },
      "source": [
        "## Task 3\n",
        "\n",
        "For task 3, we will create a reusable function that calculates the sentiment score\n",
        "\n",
        "Steps:\n",
        "\n",
        "1.   Feed the tokenised paragraph into the function\n",
        "2.   For each token, check whether its positive or negative\n",
        "3.   Have a positive and negative word count\n",
        "4.   Compute sentiment score as positive_count/non-neutral word count\n",
        "5.   Apply the function to all the text samples\n"
      ]
    },
    {
      "cell_type": "code",
      "execution_count": null,
      "metadata": {
        "id": "YFsqdLaNudLg"
      },
      "outputs": [],
      "source": [
        "def sentiment_score(tokens, sentiment_dictionary):\n",
        "    \"\"\" This function takes in 2 arguments\n",
        "        1. A list of tokens\n",
        "        2. A sentiment dictionary in the format {'positive' : [words], 'negative': [words]}\n",
        "\n",
        "        and returns a sentiment score calculated as positive_count/(positive + negative count)\n",
        "    \"\"\"\n",
        "\n",
        "    # Create counter for positive and negative words\n",
        "    positive_count = 0\n",
        "    negative_count = 0\n",
        "\n",
        "    # run a lopp with if-else statements to add to positive and negative counter\n",
        "    # If token is neither positive or negative, continue with the next token\n",
        "    for token in tokens:\n",
        "        if token in sentiment_dictionary['positive']:\n",
        "            positive_count += 1\n",
        "        elif token in sentiment_dictionary['negative']:\n",
        "            negative_count += 1\n",
        "        else:\n",
        "            continue\n",
        "\n",
        "    # count total non-neutral tokens\n",
        "    non_neutral_count = positive_count + negative_count\n",
        "    # compute sentiment score\n",
        "    sentiment_score = positive_count/non_neutral_count\n",
        "\n",
        "    return sentiment_score"
      ]
    },
    {
      "cell_type": "code",
      "execution_count": null,
      "metadata": {
        "id": "FXAn5pihACof",
        "colab": {
          "base_uri": "https://localhost:8080/"
        },
        "outputId": "8f8f9c28-b03b-43dd-ad87-88b4cedb657c"
      },
      "outputs": [
        {
          "output_type": "stream",
          "name": "stdout",
          "text": [
            "The sentiment score for the first tokenised sample is 0.8.\n"
          ]
        }
      ],
      "source": [
        "# Test the function with the first tokenised sample\n",
        "score = sentiment_score(all_tokenised[0], sentiment_dictionary)\n",
        "print(f'The sentiment score for the first tokenised sample is {score}.')"
      ]
    },
    {
      "cell_type": "code",
      "execution_count": null,
      "metadata": {
        "id": "pTmgdbyTCNlG",
        "colab": {
          "base_uri": "https://localhost:8080/"
        },
        "outputId": "7534415d-00cf-4dde-cd08-e43a600a8ab7"
      },
      "outputs": [
        {
          "output_type": "stream",
          "name": "stdout",
          "text": [
            "The sentiment scores for the paragraphs are [0.8, 0.8, 1.0, 0.8571428571428571, 0.6666666666666666].\n",
            "The highest sentiment score is 1.0.\n",
            "The lowest sentiment score is 0.6666666666666666.\n"
          ]
        }
      ],
      "source": [
        "# Apply the function to all the samples\n",
        "# use Python list comprehension\n",
        "all_para_scored = [sentiment_score(tokens, sentiment_dictionary) for tokens in all_tokenised]\n",
        "print(f'The sentiment scores for the paragraphs are {all_para_scored}.')\n",
        "\n",
        "# Perform some analytics\n",
        "max_score = max(all_para_scored)\n",
        "min_score = min(all_para_scored)\n",
        "\n",
        "# We use the .index built-in function to find the index position of the respective paragraphs\n",
        "print(f'The highest sentiment score is {max_score}.')\n",
        "print(f'The lowest sentiment score is {min_score}.')"
      ]
    }
  ]
}